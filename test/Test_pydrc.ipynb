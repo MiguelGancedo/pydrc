{
 "cells": [
  {
   "cell_type": "code",
   "execution_count": 6,
   "id": "f3dada53-1625-4a36-a2cc-7617629d84a2",
   "metadata": {},
   "outputs": [],
   "source": [
    "import os # For checking current work directory\n",
    "import numpy as np\n",
    "import pandas as pd\n",
    "import seaborn as sns\n",
    "import matplotlib.pyplot as plt\n",
    "import math\n",
    "import scipy.optimize as scipy # Parameter optimization\n",
    "import warnings\n",
    "from scipy.stats import t\n",
    "from py_markdown_table.markdown_table import markdown_table"
   ]
  },
  {
   "cell_type": "code",
   "execution_count": 4,
   "id": "92f05e65-cf13-4b66-ae15-c1fdb8fbae86",
   "metadata": {},
   "outputs": [
    {
     "name": "stdout",
     "output_type": "stream",
     "text": [
      "             Dose    Response\n",
      "0        1.258925    9.427569\n",
      "1        1.681284    5.409299\n",
      "2        2.245340    7.258125\n",
      "3        2.998631   11.218594\n",
      "4        4.004646   10.365896\n",
      "5        5.348169    2.241011\n",
      "6        7.142433    8.648426\n",
      "7        9.538656    6.293143\n",
      "8       12.738791    7.865314\n",
      "9       17.012543   11.526454\n",
      "10      22.720101   13.812730\n",
      "11      30.342495   22.110383\n",
      "12      40.522134   25.968580\n",
      "13      54.116953   31.700761\n",
      "14      72.272713   41.867311\n",
      "15      96.519571   51.726045\n",
      "16     128.901037   65.512858\n",
      "17     172.146198   69.924342\n",
      "18     229.899730   79.538538\n",
      "19     307.029063   82.390310\n",
      "20     410.034607   82.021688\n",
      "21     547.597603   95.011497\n",
      "22     731.311772   97.972748\n",
      "23     976.660424   94.728029\n",
      "24    1304.321387  104.813674\n",
      "25    1741.909714   94.334337\n",
      "26    2326.305067   99.289233\n",
      "27    3106.759910   98.887249\n",
      "28    4149.050472  104.240467\n",
      "29    5541.020330  104.175891\n",
      "30    7399.983804  100.314271\n",
      "31    9882.613137  101.036871\n",
      "32   13198.142725   97.273370\n",
      "33   17626.003262   94.016604\n",
      "34   23539.371975   98.929689\n",
      "35   31436.623764  100.451827\n",
      "36   41983.333910  103.679714\n",
      "37   56068.372336  103.599909\n",
      "38   74878.816988   98.833335\n",
      "39  100000.000000   99.090056\n"
     ]
    },
    {
     "data": {
      "image/png": "[encoded data removed]",
      "text/plain": [
       "<Figure size 432x288 with 1 Axes>"
      ]
     },
     "metadata": {},
     "output_type": "display_data"
    }
   ],
   "source": [
    "# Import data #\n",
    "toxin_df = pd.read_csv('Toxin.csv')\n",
    "\n",
    "# Inspect data #\n",
    "sns.set_theme()\n",
    "sns.scatterplot(data = toxin_df, x = 'Dose', y = 'Response', color = ['#ef3e36'], s = 75).set_xscale(\"log\")\n",
    "print(toxin_df)"
   ]
  },
  {
   "cell_type": "code",
   "execution_count": 33,
   "id": "1f4c2a53-5929-4645-b846-ab0413403eb9",
   "metadata": {},
   "outputs": [],
   "source": [
    "# Note: \n",
    "# 1. We shoud include 'data' in the object instantiation (see below for example) for all functions\n",
    "# 2. The users should only need to reference the varibles of interest in strings (see changes below; x_name and y_name\n",
    "# 3. Added a placeholder argumented called 'summary' for printing estimated parameters (in Pandas DataFrame)\n",
    "# 4. Added Overflow warnings, which is turned off during parameter optimization\n",
    "# 5. Two-sided t-test for the parameter estimates\n",
    "# 6. Add astirisk to p-value?\n",
    "\n",
    "import warnings\n",
    "import math\n",
    "import numpy as np\n",
    "from scipy import stats # For t-tests\n",
    "from scipy.optimize import curve_fit # Parameter optimization\n",
    "\n",
    "class LogisticP4Model:\n",
    "    def __init__(self, data = None, x = None, y = None, param_constraint = None):\n",
    "        self.params = None\n",
    "        self.data = data\n",
    "        self.x = x\n",
    "        self.y = y\n",
    "        self.param_constraint = np.array(param_constraint)\n",
    "\n",
    "    def logistic_P4(self, x, b, c, d, e):\n",
    "        \"\"\"Calculate log-logistic curve (4-parameter model) at a given point\"\"\"\n",
    "        f = c + (d - c) / (1 + np.exp(b * (np.log(x) - np.log(e))))\n",
    "        return f\n",
    "\n",
    "    def fit(self, x = None, y = None, summary = True, keep_summary = False, param_constraint = None, n_dec = 6):\n",
    "        \"\"\"Estimate parameters (b, c, d, e) of the log-logistic curve from data\"\"\"\n",
    "\n",
    "        ### Model data input ###\n",
    "        if self.x is None and x is None:\n",
    "            raise ValueError(\"Warning: No valid parameter provided for the X-axis. Please ensure that the parameter supplied is a numeric array containing valid numerical values.\")\n",
    "        if self.y is None and y is None:\n",
    "            raise ValueError(\"Warning: No valid parameter provided for the Y-axis. Please ensure that the parameter supplied is a numeric array containing valid numerical values.\")          \n",
    "        if self.x is None:\n",
    "            x_data = self.data[x]\n",
    "            self.x = x\n",
    "        else:\n",
    "            x_data = self.data[self.x]\n",
    "        if self.y is None:\n",
    "            y_data = self.data[y]\n",
    "            self.y = y\n",
    "        else:\n",
    "            y_data = self.data[self.y]\n",
    "            \n",
    "        ### Model boundary constraints ###\n",
    "\n",
    "        # For fixed boundary value constraints #\n",
    "        if len(np.shape(self.param_constraint)) == 1:\n",
    "            lower_bound = np.where(self.param_constraint == np.inf, -np.inf, self.param_constraint - 1e-14)\n",
    "            upper_bound = np.where(self.param_constraint == np.inf, np.inf, self.param_constraint + 1e-14)\n",
    "            mod_bounds = (np.array(lower_bound), np.array(upper_bound))\n",
    "\n",
    "        # Interval boundary value constraints #\n",
    "        elif len(np.shape(self.param_constraint)) == 2:\n",
    "            lower_bound = np.where(self.param_constraint[0] == np.inf, -np.inf, self.param_constraint[0] - 1e-14)\n",
    "            upper_bound = np.where(self.param_constraint[1] == np.inf, np.inf, self.param_constraint[1] + 1e-14)\n",
    "            mod_bounds = (np.array(lower_bound), np.array(upper_bound))\n",
    "\n",
    "        # No constraints #\n",
    "        else:\n",
    "            mod_bounds = (-np.inf, np.inf)\n",
    "\n",
    "        ### Model fitting ###\n",
    "        \n",
    "        warnings.filterwarnings(\"ignore\", category=RuntimeWarning)\n",
    "        params, covariance = curve_fit(self.logistic_P4, x_data, y_data, bounds = mod_bounds)\n",
    "        warnings.filterwarnings(\"default\", category=RuntimeWarning)\n",
    "\n",
    "        ### Parameter extraction, standard error estimates and residual standard error of the model ###\n",
    "\n",
    "        # Model parameters #\n",
    "        self.params = params\n",
    "\n",
    "        # Standard eror of estimates #\n",
    "        self.std_error = np.sqrt(np.diag(covariance))\n",
    "\n",
    "        # Residual standard error of model #\n",
    "        self.residuals = self.data[self.y] - self.predict()\n",
    "        self.n_y_data = len(self.data[self.y]) \n",
    "        self.n_params = len(self.params) \n",
    "        self.RSE = np.sqrt(np.sum(self.residuals**2) / (self.n_y_data - self.n_params))\n",
    "\n",
    "        ### Model summary table ###\n",
    "        \n",
    "        if summary == True:\n",
    "            summary_params = pd.DataFrame({'Parameter': ['b', 'c', 'd', 'e'],\n",
    "                                           'Estimate': np.round(self.params, decimals = n_dec),\n",
    "                                           'Std. Error': np.round(self.std_error, decimals = n_dec),\n",
    "                                           't-value': np.round(self.params / self.std_error, decimals = n_dec),\n",
    "                                           'p-value': np.round((1 - stats.t(df = len(y_data) - len(self.params)).cdf(x = self.params / self.std_error)) * 2, decimals = n_dec)\n",
    "                                            })\n",
    "        if keep_summary == True:\n",
    "            return summary_params\n",
    "        else:\n",
    "            print(summary_params)\n",
    "            print()\n",
    "            print('Residual Standard Error (RSE):', np.round(self.RSE, decimals = n_dec),'  Degrees of Freedom:', len(y_data) - len(self.params))\n",
    "          \n",
    "    def predict(self, x = None):\n",
    "        \"\"\"Predict output of log-logistic curve\"\"\"\n",
    "        if self.params is None:\n",
    "            raise ValueError(\"Parameters not estimated. Call fit() first.\")\n",
    "        if x is None:\n",
    "            x_pred = self.data[self.x]\n",
    "        else:\n",
    "            x_pred = x\n",
    "        b, c, d, e = self.params\n",
    "        return self.logistic_P4(x_pred, b, c, d, e)"
   ]
  },
  {
   "cell_type": "code",
   "execution_count": 34,
   "id": "a646ba71-865b-44bf-a3d5-23b669d04cac",
   "metadata": {},
   "outputs": [
    {
     "name": "stdout",
     "output_type": "stream",
     "text": [
      "  Parameter    Estimate  Std. Error     t-value   p-value\n",
      "0         b    1.467726    0.089677   16.366838  0.000000\n",
      "1         c  100.320987    0.817869  122.661497  0.000000\n",
      "2         d    6.261767    1.208848    5.179944  0.000009\n",
      "3         e  101.744631    4.820496   21.106674  0.000000\n",
      "\n",
      "Residual Standard Error (RSE): 3.20714   Degrees of Freedom: 36\n"
     ]
    }
   ],
   "source": [
    "#toxin_mod = LogisticP4Model(data = toxin_df, x = 'Dose', y = 'Response')\n",
    "#summary_table = toxin_mod.fit(keep_summary = False)\n",
    "#summary_table\n",
    "\n",
    "toxin_mod = LogisticP4Model(data = toxin_df, x = 'Dose', y = 'Response', param_constraint = [np.inf, np.inf, np.inf, np.inf])\n",
    "summary_table = toxin_mod.fit(keep_summary = False)\n",
    "summary_table\n",
    "#toxin_mod = LogisticP4Model(data = toxin_df, x = 'Dose', y = 'Response', param_constraint = [[0.5, 100, 0, np.inf],[1.5, 110, 10, np.inf]])\n",
    "#summary_table = toxin_mod.fit(keep_summary = True)\n",
    "#summary_table"
   ]
  },
  {
   "cell_type": "code",
   "execution_count": 22,
   "id": "30ed35b5-51fa-40b7-bf86-9cffeefca740",
   "metadata": {},
   "outputs": [
    {
     "data": {
      "text/plain": [
       "[<matplotlib.lines.Line2D at 0x7f2523796e90>]"
      ]
     },
     "execution_count": 22,
     "metadata": {},
     "output_type": "execute_result"
    },
    {
     "data": {
      "image/png": "[encoded data removed]",
      "text/plain": [
       "<Figure size 378x378 with 1 Axes>"
      ]
     },
     "metadata": {},
     "output_type": "display_data"
    }
   ],
   "source": [
    "import numpy as np\n",
    "\n",
    "X = np.linspace(0.1, 10000, 10000)\n",
    "\n",
    "toxin_mod.predict(x = X) # If no x argument is given -> The model X-values will be used as default \n",
    "\n",
    "plt.figure(figsize = (5.25, 5.25), frameon = False)\n",
    "plt.plot(X, toxin_mod.predict(x = X), color='#fddf58', linestyle='--', linewidth=7.5) #Interval boundary value constraints\n",
    "sns.scatterplot(data = toxin_df, x = 'Dose', y = 'Response', color = ['#ef3e36'], s = 125).set_xscale(\"log\")\n",
    "plt.xlim(1, 10000)  # Example x-axis limits\n",
    "plt.xlabel(r'Dose ($\\mu$M)')  # Example of using Greek letter alpha\n",
    "plt.ylabel(r'Response (% effect)')   # Example of using Greek letter beta\n",
    "\n",
    "plt.savefig(fname = 'Hello_pydrc.png',dpi = 1000, format = 'png')\n"
   ]
  },
  {
   "cell_type": "code",
   "execution_count": 27,
   "id": "b7736baa-0f88-481f-9538-b7e3da69aa5a",
   "metadata": {},
   "outputs": [
    {
     "data": {
      "image/png": "[encoded data removed]",
      "text/plain": [
       "<Figure size 432x288 with 1 Axes>"
      ]
     },
     "metadata": {},
     "output_type": "display_data"
    }
   ],
   "source": [
    "def logistic_P4(x, b, c, d, e):\n",
    "    \"\"\"Calculate log-logistic curve (4-parameter model) at a given point\"\"\"\n",
    "    f = c + (d - c) / (1 + np.exp(-b * (np.log(x) + np.log(e))))\n",
    "    return f\n",
    "plt.plot(X, logistic_P4(X, 1.467726, 100.320987, 6.261767, 101.744631), color='#fddf58', linestyle='--', linewidth=7.5)\n",
    "plt.xscale('log')\n"
   ]
  }
 ],
 "metadata": {
  "kernelspec": {
   "display_name": "Python 3 (ipykernel)",
   "language": "python",
   "name": "python3"
  },
  "language_info": {
   "codemirror_mode": {
    "name": "ipython",
    "version": 3
   },
   "file_extension": ".py",
   "mimetype": "text/x-python",
   "name": "python",
   "nbconvert_exporter": "python",
   "pygments_lexer": "ipython3",
   "version": "3.10.12"
  }
 },
 "nbformat": 4,
 "nbformat_minor": 5
}
